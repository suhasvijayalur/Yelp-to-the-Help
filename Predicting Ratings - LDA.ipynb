{
 "cells": [
  {
   "cell_type": "code",
   "execution_count": 15,
   "metadata": {
    "collapsed": false
   },
   "outputs": [],
   "source": [
    "library(tm)\n",
    "library(topicmodels)\n",
    "library(ggplot2)\n",
    "library(MASS)\n",
    "library(scatterplot3d)\n",
    "library(rgl)"
   ]
  },
  {
   "cell_type": "code",
   "execution_count": 16,
   "metadata": {
    "collapsed": true
   },
   "outputs": [],
   "source": [
    "setwd('C:/Users/Suhas/Documents/MSBA/Semester Two/Predictive Analytics/Project/Data/Data')"
   ]
  },
  {
   "cell_type": "code",
   "execution_count": 6,
   "metadata": {
    "collapsed": true
   },
   "outputs": [],
   "source": [
    "data_review <- read.csv(\"review.csv\", stringsAsFactors=FALSE)\n",
    "data_bus <- read.csv(\"business.csv\", stringsAsFactors=FALSE)"
   ]
  },
  {
   "cell_type": "code",
   "execution_count": 7,
   "metadata": {
    "collapsed": true
   },
   "outputs": [],
   "source": [
    "# Merging the business and review dataset to obtain the state column\n",
    "data_intermediate <- merge(x=data_review, y=data_bus, by.x=\"business_id\", by.y=\"business_id\")\n",
    "\n",
    "# Filtering the data only for Nevada state\n",
    "data_intermediate <- data_intermediate[data_intermediate$state == 'NV',]\n",
    "\n",
    "# Finding the indices of business with \"restaurant\" as category\n",
    "loc <- grep(\"Restaurant\", data_intermediate$categories, perl=TRUE, value=FALSE)\n",
    "data_intermediate_subset <- data_intermediate[loc,]\n",
    "\n",
    "# Selecting only \"restaurant\" reviews\n",
    "data_review_restaurant <- subset(data_intermediate, data_intermediate$business_id %in% data_intermediate_subset$business_id &\n",
    "                            nchar(toString(text)) > 100)\n",
    "\n",
    "data_review_restaurant <- subset(data_review_restaurant, select = -c(10:23))\n",
    "colnames(data_review_restaurant) <- c('business_id','date','review_id','stars','text','type','user_id','votes','year')\n",
    "\n",
    "data_review_restaurant <- data_review_restaurant[data_review_restaurant$year > 2014,]"
   ]
  },
  {
   "cell_type": "code",
   "execution_count": 8,
   "metadata": {
    "collapsed": false
   },
   "outputs": [
    {
     "name": "stdout",
     "output_type": "stream",
     "text": [
      "Training set: "
     ]
    },
    {
     "data": {
      "text/html": [
       "<ol class=list-inline>\n",
       "\t<li>240000</li>\n",
       "\t<li>9</li>\n",
       "</ol>\n"
      ],
      "text/latex": [
       "\\begin{enumerate*}\n",
       "\\item 240000\n",
       "\\item 9\n",
       "\\end{enumerate*}\n"
      ],
      "text/markdown": [
       "1. 240000\n",
       "2. 9\n",
       "\n",
       "\n"
      ],
      "text/plain": [
       "[1] 240000      9"
      ]
     },
     "metadata": {},
     "output_type": "display_data"
    },
    {
     "name": "stdout",
     "output_type": "stream",
     "text": [
      "Testing set: "
     ]
    },
    {
     "data": {
      "text/html": [
       "<ol class=list-inline>\n",
       "\t<li>30574</li>\n",
       "\t<li>9</li>\n",
       "</ol>\n"
      ],
      "text/latex": [
       "\\begin{enumerate*}\n",
       "\\item 30574\n",
       "\\item 9\n",
       "\\end{enumerate*}\n"
      ],
      "text/markdown": [
       "1. 30574\n",
       "2. 9\n",
       "\n",
       "\n"
      ],
      "text/plain": [
       "[1] 30574     9"
      ]
     },
     "metadata": {},
     "output_type": "display_data"
    }
   ],
   "source": [
    "# Separating into testing (90%) and testing set (10%)\n",
    "index <- sample(nrow(data_review_restaurant), 240000)\n",
    "\n",
    "data_review_restaurant.train <- data_review_restaurant[index, ]\n",
    "data_review_restaurant.test <- data_review_restaurant[-index, ]\n",
    "\n",
    "cat(\"Training set: \"); dim(data_review_restaurant.train)\n",
    "cat(\"Testing set: \"); dim(data_review_restaurant.test)"
   ]
  },
  {
   "cell_type": "code",
   "execution_count": 9,
   "metadata": {
    "collapsed": false
   },
   "outputs": [
    {
     "name": "stdout",
     "output_type": "stream",
     "text": [
      "Training set 1 size: [1] 120000\n",
      "Training set 2 size: [1] 120000      9\n"
     ]
    }
   ],
   "source": [
    "# Further divide testing set, 1 to build the LDA model and other to apply the LDA model\n",
    "index <- sample(nrow(data_review_restaurant.train), 120000)\n",
    "data_review_restaurant.train_1 <- data_review_restaurant.train[index, ]$text\n",
    "data_review_restaurant.train_2 <- data_review_restaurant.train[-index, ]\n",
    "cat(\"Training set 1 size: \"); print(length(data_review_restaurant.train_1))\n",
    "cat(\"Training set 2 size: \"); print(dim(data_review_restaurant.train_2))"
   ]
  },
  {
   "cell_type": "code",
   "execution_count": 10,
   "metadata": {
    "collapsed": false
   },
   "outputs": [
    {
     "data": {
      "text/html": [
       "<span style=white-space:pre-wrap>'This morning we decided to have our 1st breakfast at CRAFTkitchen...We had chicken and waffles and an almond croissant with fantastic bacon..The food was fresh and very tasty and we ate every bite! Our server, Teresa was great to talk with and very attentive with our delightful organic hot coffee...I normally never write a review but decided it was time !\n",
       "Thank you  Debbie Lynn'</span>"
      ],
      "text/latex": [
       "'This morning we decided to have our 1st breakfast at CRAFTkitchen...We had chicken and waffles and an almond croissant with fantastic bacon..The food was fresh and very tasty and we ate every bite! Our server, Teresa was great to talk with and very attentive with our delightful organic hot coffee...I normally never write a review but decided it was time !\n",
       "Thank you  Debbie Lynn'"
      ],
      "text/markdown": [
       "<span style=white-space:pre-wrap>'This morning we decided to have our 1st breakfast at CRAFTkitchen...We had chicken and waffles and an almond croissant with fantastic bacon..The food was fresh and very tasty and we ate every bite! Our server, Teresa was great to talk with and very attentive with our delightful organic hot coffee...I normally never write a review but decided it was time !\n",
       "Thank you  Debbie Lynn'</span>"
      ],
      "text/plain": [
       "[1] \"This morning we decided to have our 1st breakfast at CRAFTkitchen...We had chicken and waffles and an almond croissant with fantastic bacon..The food was fresh and very tasty and we ate every bite! Our server, Teresa was great to talk with and very attentive with our delightful organic hot coffee...I normally never write a review but decided it was time !\\nThank you  Debbie Lynn\""
      ]
     },
     "metadata": {},
     "output_type": "display_data"
    }
   ],
   "source": [
    "data_review_restaurant.train_1[3]"
   ]
  },
  {
   "cell_type": "code",
   "execution_count": 11,
   "metadata": {
    "collapsed": false
   },
   "outputs": [],
   "source": [
    "write.csv(data_review_restaurant.test_1, \"data_review_restaurant.train_1.csv\", row.names = FALSE)\n",
    "write.csv(data_review_restaurant.test_2, \"data_review_restaurant.train_2.csv\", row.names = FALSE)\n",
    "write.csv(data_review_restaurant.test, \"data_review_restaurant.test.csv\", row.names = FALSE)\n",
    "write.csv(data_review_restaurant, \"data_review_restaurant.csv\", row.names = FALSE)"
   ]
  },
  {
   "cell_type": "code",
   "execution_count": 12,
   "metadata": {
    "collapsed": false
   },
   "outputs": [
    {
     "name": "stdout",
     "output_type": "stream",
     "text": [
      "Number of 5-star reviews in train set 2: [1] 54966\n",
      "Number of 4-star reviews in train set 2: [1] 26899\n",
      "Number of 3-star reviews in train set 2: [1] 13524\n",
      "Number of 2-star reviews in train set 2: [1] 10149\n",
      "Number of 1-star reviews in train set 2: [1] 14462\n"
     ]
    }
   ],
   "source": [
    "train.5stars <- subset(data_review_restaurant.train_2, stars == 5)$text\n",
    "train.4stars <- subset(data_review_restaurant.train_2, stars == 4)$text\n",
    "train.3stars <- subset(data_review_restaurant.train_2, stars == 3)$text\n",
    "train.2stars <- subset(data_review_restaurant.train_2, stars == 2)$text\n",
    "train.1stars <- subset(data_review_restaurant.train_2, stars == 1)$text\n",
    "cat(\"Number of 5-star reviews in test set 2: \"); print(length(train.5stars))\n",
    "cat(\"Number of 4-star reviews in test set 2: \"); print(length(train.4stars))\n",
    "cat(\"Number of 3-star reviews in test set 2: \"); print(length(train.3stars))\n",
    "cat(\"Number of 2-star reviews in test set 2: \"); print(length(train.2stars))\n",
    "cat(\"Number of 1-star reviews in test set 2: \"); print(length(train.1stars))"
   ]
  },
  {
   "cell_type": "code",
   "execution_count": 13,
   "metadata": {
    "collapsed": true
   },
   "outputs": [],
   "source": [
    "write.csv(test.5stars, \"train.5stars.csv\", row.names = FALSE)\n",
    "write.csv(test.4stars, \"train.4stars.csv\", row.names = FALSE)\n",
    "write.csv(test.3stars, \"train.3stars.csv\", row.names = FALSE)\n",
    "write.csv(test.2stars, \"train.2stars.csv\", row.names = FALSE)\n",
    "write.csv(test.1stars, \"train.1stars.csv\", row.names = FALSE)"
   ]
  },
  {
   "cell_type": "code",
   "execution_count": 18,
   "metadata": {
    "collapsed": false
   },
   "outputs": [
    {
     "name": "stdout",
     "output_type": "stream",
     "text": [
      "Number of 5-star reviews in test set 2: [1] 14079\n",
      "Number of 4-star reviews in test set 2: [1] 6898\n",
      "Number of 3-star reviews in test set 2: [1] 3415\n",
      "Number of 2-star reviews in test set 2: [1] 2548\n",
      "Number of 1-star reviews in test set 2: [1] 3634\n"
     ]
    }
   ],
   "source": [
    "test.5stars <- subset(data_review_restaurant.test, stars == 5)$text\n",
    "test.4stars <- subset(data_review_restaurant.test, stars == 4)$text\n",
    "test.3stars <- subset(data_review_restaurant.test, stars == 3)$text\n",
    "test.2stars <- subset(data_review_restaurant.test, stars == 2)$text\n",
    "test.1stars <- subset(data_review_restaurant.test, stars == 1)$text\n",
    "cat(\"Number of 5-star reviews in test set 2: \"); print(length(test.5stars))\n",
    "cat(\"Number of 4-star reviews in test set 2: \"); print(length(test.4stars))\n",
    "cat(\"Number of 3-star reviews in test set 2: \"); print(length(test.3stars))\n",
    "cat(\"Number of 2-star reviews in test set 2: \"); print(length(test.2stars))\n",
    "cat(\"Number of 1-star reviews in test set 2: \"); print(length(test.1stars))"
   ]
  },
  {
   "cell_type": "code",
   "execution_count": 19,
   "metadata": {
    "collapsed": true
   },
   "outputs": [],
   "source": [
    "write.csv(test.5stars, \"test.5stars.csv\", row.names = FALSE)\n",
    "write.csv(test.4stars, \"test.4stars.csv\", row.names = FALSE)\n",
    "write.csv(test.3stars, \"test.3stars.csv\", row.names = FALSE)\n",
    "write.csv(test.2stars, \"test.2stars.csv\", row.names = FALSE)\n",
    "write.csv(test.1stars, \"test.1stars.csv\", row.names = FALSE)"
   ]
  },
  {
   "cell_type": "code",
   "execution_count": 23,
   "metadata": {
    "collapsed": true
   },
   "outputs": [],
   "source": [
    "topic_dist_train_1_5_df <- read.csv(\"topic_dist_train_1_5_df.csv\", stringsAsFactors=FALSE)"
   ]
  },
  {
   "cell_type": "code",
   "execution_count": 24,
   "metadata": {
    "collapsed": true
   },
   "outputs": [],
   "source": [
    "topic_dist_test_1_5_df <- read.csv(\"topic_dist_test_1_5_df.csv\", stringsAsFactors=FALSE)"
   ]
  },
  {
   "cell_type": "code",
   "execution_count": 25,
   "metadata": {
    "collapsed": false
   },
   "outputs": [
    {
     "name": "stdout",
     "output_type": "stream",
     "text": [
      "Logistic rgression:\n",
      "\n",
      "Call:  glm(formula = Star ~ ., data = topic_dist_train_1_5_df)\n",
      "\n",
      "Coefficients:\n",
      "(Intercept)       Topic1       Topic2       Topic3       Topic4       Topic5  \n",
      "    -0.4852       3.9029       3.6205       5.8495       4.3417       6.4065  \n",
      "     Topic6       Topic7       Topic8       Topic9      Topic10      Topic11  \n",
      "     5.6346       4.1862       1.1459       2.3335       2.9807       6.4871  \n",
      "    Topic12      Topic13      Topic14      Topic15      Topic16      Topic17  \n",
      "     1.2850       3.5980       3.5279       4.7605       7.6908       7.2072  \n",
      "    Topic18      Topic19      Topic20      Topic21      Topic22      Topic23  \n",
      "     5.9122       4.5987       5.4266       5.4167       3.6365       1.6975  \n",
      "    Topic24      Topic25      Topic26      Topic27      Topic28      Topic29  \n",
      "     7.0411      -1.3068       2.0934       2.4576       3.2785       5.6007  \n",
      "    Topic30  \n",
      "     1.3254  \n",
      "\n",
      "Degrees of Freedom: 27692 Total (i.e. Null);  27662 Residual\n",
      "Null Deviance:\t    110700 \n",
      "Residual Deviance: 39570 \tAIC: 88540\n",
      "\n",
      "1 2 3 4 5 6 \n",
      "3 5 4 3 4 5 \n",
      "[1] 6957\n",
      "Confusion matrix:    predictions\n",
      "       1    5\n",
      "  1 2836  681\n",
      "  5  123 3317\n",
      "\n",
      "Accuracy: [1] 0.8844329\n"
     ]
    }
   ],
   "source": [
    "glm_model <- glm(Star ~ ., data=topic_dist_train_1_5_df)\n",
    "cat(\"Logistic rgression:\\n\"); print(glm_model); cat(\"\\n\")\n",
    "\n",
    "predictions <- predict(glm_model, topic_dist_test_1_5_df)\n",
    "print(head(round(predictions)))\n",
    "print(length(predictions))\n",
    "mround <- function(base, x) {base * round(x/base)}\n",
    "predictions <- mround(5, predictions)\n",
    "predictions[predictions==0] <- 1\n",
    "      \n",
    "m <- nrow(topic_dist_test_1_5_df)\n",
    "\n",
    "# Confusion matrix\n",
    "confusion_matrix <- table(topic_dist_test_1_5_df$Star, predictions)\n",
    "cat(\"Confusion matrix: \"); print(confusion_matrix); cat(\"\\n\")\n",
    "\n",
    "accuracy <- (sum(predictions == topic_dist_test_1_5_df$Star))/m\n",
    "cat(\"Accuracy: \"); print(accuracy)"
   ]
  }
 ],
 "metadata": {
  "anaconda-cloud": {},
  "kernelspec": {
   "display_name": "R",
   "language": "R",
   "name": "ir"
  },
  "language_info": {
   "codemirror_mode": "r",
   "file_extension": ".r",
   "mimetype": "text/x-r-source",
   "name": "R",
   "pygments_lexer": "r",
   "version": "3.3.2"
  }
 },
 "nbformat": 4,
 "nbformat_minor": 0
}
