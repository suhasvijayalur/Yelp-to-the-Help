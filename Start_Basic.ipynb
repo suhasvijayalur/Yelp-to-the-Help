{
 "cells": [
  {
   "cell_type": "markdown",
   "metadata": {},
   "source": [
    "<h2 style=\"font-family:Times New Roman;\">Loading required libraries</h2>"
   ]
  },
  {
   "cell_type": "code",
   "execution_count": 2,
   "metadata": {
    "collapsed": false
   },
   "outputs": [
    {
     "name": "stdout",
     "output_type": "stream",
     "text": [
      "C:\\Users\\Suhas\\Documents\\MSBA\\Semester Two\\Predictive Analytics\\Project\\Data\\Data\n"
     ]
    }
   ],
   "source": [
    "import json\n",
    "import pandas as pd\n",
    "from pandas import DataFrame\n",
    "import numpy as np\n",
    "import matplotlib.pyplot as plt\n",
    "import seaborn as sns\n",
    "import re\n",
    "%matplotlib inline\n",
    "%cd C:/Users/Suhas/Documents/MSBA/Semester Two/Predictive Analytics/Project/Data/Data"
   ]
  },
  {
   "cell_type": "markdown",
   "metadata": {},
   "source": [
    "<h2 style=\"font-family:Times New Roman;\">Reading the datasets</h2>"
   ]
  },
  {
   "cell_type": "code",
   "execution_count": 2,
   "metadata": {
    "collapsed": true
   },
   "outputs": [],
   "source": [
    "# Checkin data\n",
    "with open('checkin.json') as f:\n",
    "    checkin = pd.DataFrame(json.loads(line) for line in f)\n",
    "\n",
    "# Business data\n",
    "with open('business.json') as f:\n",
    "    business = pd.DataFrame(json.loads(line) for line in f)\n",
    "\n",
    "# Tip data \n",
    "with open('tip.json') as f:\n",
    "    tip = pd.DataFrame(json.loads(line) for line in f)\n",
    "\n",
    "# User data\n",
    "with open('user.json') as f:\n",
    "    user = pd.DataFrame(json.loads(line) for line in f)\n",
    "\n",
    "# Review data\n",
    "with open('review.json') as f:\n",
    "    review = pd.DataFrame(json.loads(line) for line in f)"
   ]
  },
  {
   "cell_type": "code",
   "execution_count": 22,
   "metadata": {
    "collapsed": true
   },
   "outputs": [],
   "source": [
    "checkin.to_csv(\"checkin.csv\", index = False, encoding='utf-8')"
   ]
  },
  {
   "cell_type": "code",
   "execution_count": 23,
   "metadata": {
    "collapsed": false
   },
   "outputs": [],
   "source": [
    "review.to_csv(\"review.csv\", index=False, encoding='utf-8')"
   ]
  },
  {
   "cell_type": "code",
   "execution_count": 24,
   "metadata": {
    "collapsed": true
   },
   "outputs": [],
   "source": [
    "business.to_csv(\"business.csv\", index=False, encoding='utf-8')"
   ]
  },
  {
   "cell_type": "code",
   "execution_count": 25,
   "metadata": {
    "collapsed": true
   },
   "outputs": [],
   "source": [
    "user.to_csv(\"user.csv\", index=False, encoding='utf-8')"
   ]
  },
  {
   "cell_type": "code",
   "execution_count": 26,
   "metadata": {
    "collapsed": true
   },
   "outputs": [],
   "source": [
    "tip.to_csv(\"tip.csv\", index=False, encoding='utf-8')"
   ]
  },
  {
   "cell_type": "markdown",
   "metadata": {},
   "source": [
    "<h2 style=\"font-family:Times New Roman;\">Visualizing the dataset</h2>"
   ]
  },
  {
   "cell_type": "code",
   "execution_count": 3,
   "metadata": {
    "collapsed": false
   },
   "outputs": [
    {
     "data": {
      "text/html": [
       "<div>\n",
       "<table border=\"1\" class=\"dataframe\">\n",
       "  <thead>\n",
       "    <tr style=\"text-align: right;\">\n",
       "      <th></th>\n",
       "      <th>business_id</th>\n",
       "      <th>date</th>\n",
       "      <th>review_id</th>\n",
       "      <th>stars</th>\n",
       "      <th>text</th>\n",
       "      <th>type</th>\n",
       "      <th>user_id</th>\n",
       "      <th>votes</th>\n",
       "    </tr>\n",
       "  </thead>\n",
       "  <tbody>\n",
       "    <tr>\n",
       "      <th>0</th>\n",
       "      <td>5UmKMjUEUNdYWqANhGckJw</td>\n",
       "      <td>2012-08-01</td>\n",
       "      <td>Ya85v4eqdd6k9Od8HbQjyA</td>\n",
       "      <td>4</td>\n",
       "      <td>Mr Hoagie is an institution. Walking in, it do...</td>\n",
       "      <td>review</td>\n",
       "      <td>PUFPaY9KxDAcGqfsorJp3Q</td>\n",
       "      <td>{u'funny': 0, u'useful': 0, u'cool': 0}</td>\n",
       "    </tr>\n",
       "    <tr>\n",
       "      <th>1</th>\n",
       "      <td>5UmKMjUEUNdYWqANhGckJw</td>\n",
       "      <td>2014-02-13</td>\n",
       "      <td>KPvLNJ21_4wbYNctrOwWdQ</td>\n",
       "      <td>5</td>\n",
       "      <td>Excellent food. Superb customer service. I mis...</td>\n",
       "      <td>review</td>\n",
       "      <td>Iu6AxdBYGR4A0wspR9BYHA</td>\n",
       "      <td>{u'funny': 0, u'useful': 0, u'cool': 0}</td>\n",
       "    </tr>\n",
       "  </tbody>\n",
       "</table>\n",
       "</div>"
      ],
      "text/plain": [
       "              business_id        date               review_id  stars  \\\n",
       "0  5UmKMjUEUNdYWqANhGckJw  2012-08-01  Ya85v4eqdd6k9Od8HbQjyA      4   \n",
       "1  5UmKMjUEUNdYWqANhGckJw  2014-02-13  KPvLNJ21_4wbYNctrOwWdQ      5   \n",
       "\n",
       "                                                text    type  \\\n",
       "0  Mr Hoagie is an institution. Walking in, it do...  review   \n",
       "1  Excellent food. Superb customer service. I mis...  review   \n",
       "\n",
       "                  user_id                                    votes  \n",
       "0  PUFPaY9KxDAcGqfsorJp3Q  {u'funny': 0, u'useful': 0, u'cool': 0}  \n",
       "1  Iu6AxdBYGR4A0wspR9BYHA  {u'funny': 0, u'useful': 0, u'cool': 0}  "
      ]
     },
     "execution_count": 3,
     "metadata": {},
     "output_type": "execute_result"
    }
   ],
   "source": [
    "# Review data\n",
    "review.head(n=2)"
   ]
  },
  {
   "cell_type": "code",
   "execution_count": 4,
   "metadata": {
    "collapsed": false
   },
   "outputs": [
    {
     "data": {
      "text/html": [
       "<div>\n",
       "<table border=\"1\" class=\"dataframe\">\n",
       "  <thead>\n",
       "    <tr style=\"text-align: right;\">\n",
       "      <th></th>\n",
       "      <th>attributes</th>\n",
       "      <th>business_id</th>\n",
       "      <th>categories</th>\n",
       "      <th>city</th>\n",
       "      <th>full_address</th>\n",
       "      <th>hours</th>\n",
       "      <th>latitude</th>\n",
       "      <th>longitude</th>\n",
       "      <th>name</th>\n",
       "      <th>neighborhoods</th>\n",
       "      <th>open</th>\n",
       "      <th>review_count</th>\n",
       "      <th>stars</th>\n",
       "      <th>state</th>\n",
       "      <th>type</th>\n",
       "    </tr>\n",
       "  </thead>\n",
       "  <tbody>\n",
       "    <tr>\n",
       "      <th>0</th>\n",
       "      <td>{u'Take-out': True, u'Drive-Thru': False, u'Ou...</td>\n",
       "      <td>5UmKMjUEUNdYWqANhGckJw</td>\n",
       "      <td>[Fast Food, Restaurants]</td>\n",
       "      <td>Dravosburg</td>\n",
       "      <td>4734 Lebanon Church Rd\\nDravosburg, PA 15034</td>\n",
       "      <td>{u'Tuesday': {u'close': u'21:00', u'open': u'1...</td>\n",
       "      <td>40.354327</td>\n",
       "      <td>-79.900706</td>\n",
       "      <td>Mr Hoagie</td>\n",
       "      <td>[]</td>\n",
       "      <td>True</td>\n",
       "      <td>7</td>\n",
       "      <td>3.5</td>\n",
       "      <td>PA</td>\n",
       "      <td>business</td>\n",
       "    </tr>\n",
       "    <tr>\n",
       "      <th>1</th>\n",
       "      <td>{u'Happy Hour': True, u'Accepts Credit Cards':...</td>\n",
       "      <td>UsFtqoBl7naz8AVUBZMjQQ</td>\n",
       "      <td>[Nightlife]</td>\n",
       "      <td>Dravosburg</td>\n",
       "      <td>202 McClure St\\nDravosburg, PA 15034</td>\n",
       "      <td>{}</td>\n",
       "      <td>40.350553</td>\n",
       "      <td>-79.886814</td>\n",
       "      <td>Clancy's Pub</td>\n",
       "      <td>[]</td>\n",
       "      <td>True</td>\n",
       "      <td>5</td>\n",
       "      <td>3.0</td>\n",
       "      <td>PA</td>\n",
       "      <td>business</td>\n",
       "    </tr>\n",
       "  </tbody>\n",
       "</table>\n",
       "</div>"
      ],
      "text/plain": [
       "                                          attributes             business_id  \\\n",
       "0  {u'Take-out': True, u'Drive-Thru': False, u'Ou...  5UmKMjUEUNdYWqANhGckJw   \n",
       "1  {u'Happy Hour': True, u'Accepts Credit Cards':...  UsFtqoBl7naz8AVUBZMjQQ   \n",
       "\n",
       "                 categories        city  \\\n",
       "0  [Fast Food, Restaurants]  Dravosburg   \n",
       "1               [Nightlife]  Dravosburg   \n",
       "\n",
       "                                   full_address  \\\n",
       "0  4734 Lebanon Church Rd\\nDravosburg, PA 15034   \n",
       "1          202 McClure St\\nDravosburg, PA 15034   \n",
       "\n",
       "                                               hours   latitude  longitude  \\\n",
       "0  {u'Tuesday': {u'close': u'21:00', u'open': u'1...  40.354327 -79.900706   \n",
       "1                                                 {}  40.350553 -79.886814   \n",
       "\n",
       "           name neighborhoods  open  review_count  stars state      type  \n",
       "0     Mr Hoagie            []  True             7    3.5    PA  business  \n",
       "1  Clancy's Pub            []  True             5    3.0    PA  business  "
      ]
     },
     "execution_count": 4,
     "metadata": {},
     "output_type": "execute_result"
    }
   ],
   "source": [
    "# Business data\n",
    "business.head(n=2)"
   ]
  },
  {
   "cell_type": "code",
   "execution_count": 5,
   "metadata": {
    "collapsed": false
   },
   "outputs": [
    {
     "data": {
      "text/html": [
       "<div>\n",
       "<table border=\"1\" class=\"dataframe\">\n",
       "  <thead>\n",
       "    <tr style=\"text-align: right;\">\n",
       "      <th></th>\n",
       "      <th>business_id</th>\n",
       "      <th>checkin_info</th>\n",
       "      <th>type</th>\n",
       "    </tr>\n",
       "  </thead>\n",
       "  <tbody>\n",
       "    <tr>\n",
       "      <th>0</th>\n",
       "      <td>cE27W9VPgO88Qxe4ol6y_g</td>\n",
       "      <td>{u'9-5': 1, u'7-5': 1, u'13-3': 1, u'17-6': 1,...</td>\n",
       "      <td>checkin</td>\n",
       "    </tr>\n",
       "    <tr>\n",
       "      <th>1</th>\n",
       "      <td>mVHrayjG3uZ_RLHkLj-AMg</td>\n",
       "      <td>{u'11-5': 1, u'9-5': 2, u'9-4': 3, u'15-1': 1,...</td>\n",
       "      <td>checkin</td>\n",
       "    </tr>\n",
       "    <tr>\n",
       "      <th>2</th>\n",
       "      <td>mYSpR_SLPgUVymYOvTQd_Q</td>\n",
       "      <td>{u'5-5': 1, u'5-4': 1, u'9-3': 1, u'11-4': 1, ...</td>\n",
       "      <td>checkin</td>\n",
       "    </tr>\n",
       "    <tr>\n",
       "      <th>3</th>\n",
       "      <td>KayYbHCt-RkbGcPdGOThNg</td>\n",
       "      <td>{u'23-1': 1, u'11-2': 2, u'21-4': 1, u'16-1': ...</td>\n",
       "      <td>checkin</td>\n",
       "    </tr>\n",
       "    <tr>\n",
       "      <th>4</th>\n",
       "      <td>b12U9TFESStdy7CsTtcOeg</td>\n",
       "      <td>{u'5-5': 2, u'13-2': 1, u'8-6': 1, u'5-1': 2, ...</td>\n",
       "      <td>checkin</td>\n",
       "    </tr>\n",
       "  </tbody>\n",
       "</table>\n",
       "</div>"
      ],
      "text/plain": [
       "              business_id                                       checkin_info  \\\n",
       "0  cE27W9VPgO88Qxe4ol6y_g  {u'9-5': 1, u'7-5': 1, u'13-3': 1, u'17-6': 1,...   \n",
       "1  mVHrayjG3uZ_RLHkLj-AMg  {u'11-5': 1, u'9-5': 2, u'9-4': 3, u'15-1': 1,...   \n",
       "2  mYSpR_SLPgUVymYOvTQd_Q  {u'5-5': 1, u'5-4': 1, u'9-3': 1, u'11-4': 1, ...   \n",
       "3  KayYbHCt-RkbGcPdGOThNg  {u'23-1': 1, u'11-2': 2, u'21-4': 1, u'16-1': ...   \n",
       "4  b12U9TFESStdy7CsTtcOeg  {u'5-5': 2, u'13-2': 1, u'8-6': 1, u'5-1': 2, ...   \n",
       "\n",
       "      type  \n",
       "0  checkin  \n",
       "1  checkin  \n",
       "2  checkin  \n",
       "3  checkin  \n",
       "4  checkin  "
      ]
     },
     "execution_count": 5,
     "metadata": {},
     "output_type": "execute_result"
    }
   ],
   "source": [
    "# Checkin Data\n",
    "checkin.head(n=5)"
   ]
  },
  {
   "cell_type": "code",
   "execution_count": 6,
   "metadata": {
    "collapsed": false
   },
   "outputs": [
    {
     "data": {
      "text/html": [
       "<div>\n",
       "<table border=\"1\" class=\"dataframe\">\n",
       "  <thead>\n",
       "    <tr style=\"text-align: right;\">\n",
       "      <th></th>\n",
       "      <th>average_stars</th>\n",
       "      <th>compliments</th>\n",
       "      <th>elite</th>\n",
       "      <th>fans</th>\n",
       "      <th>friends</th>\n",
       "      <th>name</th>\n",
       "      <th>review_count</th>\n",
       "      <th>type</th>\n",
       "      <th>user_id</th>\n",
       "      <th>votes</th>\n",
       "      <th>yelping_since</th>\n",
       "    </tr>\n",
       "  </thead>\n",
       "  <tbody>\n",
       "    <tr>\n",
       "      <th>0</th>\n",
       "      <td>4.14</td>\n",
       "      <td>{u'profile': 8, u'cute': 15, u'funny': 11, u'p...</td>\n",
       "      <td>[2005, 2006]</td>\n",
       "      <td>69</td>\n",
       "      <td>[rpOyqD_893cqmDAtJLbdog, 4U9kSBLuBDU391x6bxU-Y...</td>\n",
       "      <td>Russel</td>\n",
       "      <td>108</td>\n",
       "      <td>user</td>\n",
       "      <td>18kPq7GPye-YQ3LyKyAZPw</td>\n",
       "      <td>{u'funny': 167, u'useful': 282, u'cool': 246}</td>\n",
       "      <td>2004-10</td>\n",
       "    </tr>\n",
       "    <tr>\n",
       "      <th>1</th>\n",
       "      <td>3.67</td>\n",
       "      <td>{u'profile': 117, u'cute': 204, u'funny': 594,...</td>\n",
       "      <td>[2005, 2006, 2007, 2008, 2009, 2010, 2011, 201...</td>\n",
       "      <td>1345</td>\n",
       "      <td>[18kPq7GPye-YQ3LyKyAZPw, 4U9kSBLuBDU391x6bxU-Y...</td>\n",
       "      <td>Jeremy</td>\n",
       "      <td>1292</td>\n",
       "      <td>user</td>\n",
       "      <td>rpOyqD_893cqmDAtJLbdog</td>\n",
       "      <td>{u'funny': 8399, u'useful': 15242, u'cool': 12...</td>\n",
       "      <td>2004-10</td>\n",
       "    </tr>\n",
       "  </tbody>\n",
       "</table>\n",
       "</div>"
      ],
      "text/plain": [
       "   average_stars                                        compliments  \\\n",
       "0           4.14  {u'profile': 8, u'cute': 15, u'funny': 11, u'p...   \n",
       "1           3.67  {u'profile': 117, u'cute': 204, u'funny': 594,...   \n",
       "\n",
       "                                               elite  fans  \\\n",
       "0                                       [2005, 2006]    69   \n",
       "1  [2005, 2006, 2007, 2008, 2009, 2010, 2011, 201...  1345   \n",
       "\n",
       "                                             friends    name  review_count  \\\n",
       "0  [rpOyqD_893cqmDAtJLbdog, 4U9kSBLuBDU391x6bxU-Y...  Russel           108   \n",
       "1  [18kPq7GPye-YQ3LyKyAZPw, 4U9kSBLuBDU391x6bxU-Y...  Jeremy          1292   \n",
       "\n",
       "   type                 user_id  \\\n",
       "0  user  18kPq7GPye-YQ3LyKyAZPw   \n",
       "1  user  rpOyqD_893cqmDAtJLbdog   \n",
       "\n",
       "                                               votes yelping_since  \n",
       "0      {u'funny': 167, u'useful': 282, u'cool': 246}       2004-10  \n",
       "1  {u'funny': 8399, u'useful': 15242, u'cool': 12...       2004-10  "
      ]
     },
     "execution_count": 6,
     "metadata": {},
     "output_type": "execute_result"
    }
   ],
   "source": [
    "# User data\n",
    "user.head(n=2)"
   ]
  },
  {
   "cell_type": "code",
   "execution_count": 7,
   "metadata": {
    "collapsed": false
   },
   "outputs": [
    {
     "data": {
      "text/html": [
       "<div>\n",
       "<table border=\"1\" class=\"dataframe\">\n",
       "  <thead>\n",
       "    <tr style=\"text-align: right;\">\n",
       "      <th></th>\n",
       "      <th>business_id</th>\n",
       "      <th>date</th>\n",
       "      <th>likes</th>\n",
       "      <th>text</th>\n",
       "      <th>type</th>\n",
       "      <th>user_id</th>\n",
       "    </tr>\n",
       "  </thead>\n",
       "  <tbody>\n",
       "    <tr>\n",
       "      <th>0</th>\n",
       "      <td>5UmKMjUEUNdYWqANhGckJw</td>\n",
       "      <td>2016-07-17</td>\n",
       "      <td>0</td>\n",
       "      <td>Pizza is garbage. Hoagies are excellent.</td>\n",
       "      <td>tip</td>\n",
       "      <td>ZxdojCZgZhw36xuSGaryRg</td>\n",
       "    </tr>\n",
       "    <tr>\n",
       "      <th>1</th>\n",
       "      <td>cE27W9VPgO88Qxe4ol6y_g</td>\n",
       "      <td>2013-04-18</td>\n",
       "      <td>0</td>\n",
       "      <td>Don't waste your time.</td>\n",
       "      <td>tip</td>\n",
       "      <td>-6rEfobYjMxpUWLNxszaxQ</td>\n",
       "    </tr>\n",
       "    <tr>\n",
       "      <th>2</th>\n",
       "      <td>mVHrayjG3uZ_RLHkLj-AMg</td>\n",
       "      <td>2016-02-22</td>\n",
       "      <td>0</td>\n",
       "      <td>Not easy to find. Be sure to put in directions...</td>\n",
       "      <td>tip</td>\n",
       "      <td>5OumCBQ_MyQsltSdbMyunA</td>\n",
       "    </tr>\n",
       "    <tr>\n",
       "      <th>3</th>\n",
       "      <td>mVHrayjG3uZ_RLHkLj-AMg</td>\n",
       "      <td>2013-01-06</td>\n",
       "      <td>1</td>\n",
       "      <td>Your GPS will not allow you to find this place...</td>\n",
       "      <td>tip</td>\n",
       "      <td>EZ0r9dKKtEGVx2CdnowPCw</td>\n",
       "    </tr>\n",
       "    <tr>\n",
       "      <th>4</th>\n",
       "      <td>KayYbHCt-RkbGcPdGOThNg</td>\n",
       "      <td>2013-12-03</td>\n",
       "      <td>0</td>\n",
       "      <td>Great drink specials!</td>\n",
       "      <td>tip</td>\n",
       "      <td>xb6zEQCw9I-Gl0g06e1KsQ</td>\n",
       "    </tr>\n",
       "  </tbody>\n",
       "</table>\n",
       "</div>"
      ],
      "text/plain": [
       "              business_id        date  likes  \\\n",
       "0  5UmKMjUEUNdYWqANhGckJw  2016-07-17      0   \n",
       "1  cE27W9VPgO88Qxe4ol6y_g  2013-04-18      0   \n",
       "2  mVHrayjG3uZ_RLHkLj-AMg  2016-02-22      0   \n",
       "3  mVHrayjG3uZ_RLHkLj-AMg  2013-01-06      1   \n",
       "4  KayYbHCt-RkbGcPdGOThNg  2013-12-03      0   \n",
       "\n",
       "                                                text type  \\\n",
       "0           Pizza is garbage. Hoagies are excellent.  tip   \n",
       "1                             Don't waste your time.  tip   \n",
       "2  Not easy to find. Be sure to put in directions...  tip   \n",
       "3  Your GPS will not allow you to find this place...  tip   \n",
       "4                              Great drink specials!  tip   \n",
       "\n",
       "                  user_id  \n",
       "0  ZxdojCZgZhw36xuSGaryRg  \n",
       "1  -6rEfobYjMxpUWLNxszaxQ  \n",
       "2  5OumCBQ_MyQsltSdbMyunA  \n",
       "3  EZ0r9dKKtEGVx2CdnowPCw  \n",
       "4  xb6zEQCw9I-Gl0g06e1KsQ  "
      ]
     },
     "execution_count": 7,
     "metadata": {},
     "output_type": "execute_result"
    }
   ],
   "source": [
    "# Tip data\n",
    "tip.head(n=5)"
   ]
  },
  {
   "cell_type": "markdown",
   "metadata": {},
   "source": [
    "<h2 style=\"font-family:Times New Roman;\">Performing Exploratory Data Analysis</h2>"
   ]
  },
  {
   "cell_type": "code",
   "execution_count": 17,
   "metadata": {
    "collapsed": false
   },
   "outputs": [
    {
     "data": {
      "text/plain": [
       "<matplotlib.axes._subplots.AxesSubplot at 0x32df34470>"
      ]
     },
     "execution_count": 17,
     "metadata": {},
     "output_type": "execute_result"
    },
    {
     "data": {
      "image/png": "[encoded data removed]",
      "text/plain": [
       "<matplotlib.figure.Figure at 0x32e1a8e80>"
      ]
     },
     "metadata": {},
     "output_type": "display_data"
    }
   ],
   "source": [
    "# Distributiong of stars\n",
    "review.groupby('stars').size().plot(kind = 'bar')"
   ]
  },
  {
   "cell_type": "code",
   "execution_count": 18,
   "metadata": {
    "collapsed": false
   },
   "outputs": [
    {
     "data": {
      "text/plain": [
       "<matplotlib.axes._subplots.AxesSubplot at 0x32e25bac8>"
      ]
     },
     "execution_count": 18,
     "metadata": {},
     "output_type": "execute_result"
    },
    {
     "data": {
      "image/png": "[encoded data removed]",
      "text/plain": [
       "<matplotlib.figure.Figure at 0x3362e5978>"
      ]
     },
     "metadata": {},
     "output_type": "display_data"
    }
   ],
   "source": [
    "# Number of reviews and ratings per year\n",
    "review['date'] = pd.to_datetime(review['date'])\n",
    "review['year'] = [d.year for d in review['date']]\n",
    "\n",
    "fig, axs = plt.subplots(1, 2)\n",
    "review.groupby('year').size().plot(kind = 'bar', ax = axs[0], figsize = (16, 4))\n",
    "sns.boxplot(review['year'], review['stars'], ax = axs[1])"
   ]
  },
  {
   "cell_type": "code",
   "execution_count": 28,
   "metadata": {
    "collapsed": false
   },
   "outputs": [
    {
     "name": "stdout",
     "output_type": "stream",
     "text": [
      "the number of unique business_ids from the reviews dataset: 85539\n",
      "the number of unique business_ids from the business dataset: 85901\n"
     ]
    }
   ],
   "source": [
    "print 'the number of unique business_ids from the reviews dataset:', len(set(review['business_id']))\n",
    "print 'the number of unique business_ids from the business dataset:', len(business)"
   ]
  },
  {
   "cell_type": "code",
   "execution_count": 27,
   "metadata": {
    "collapsed": false
   },
   "outputs": [
    {
     "name": "stdout",
     "output_type": "stream",
     "text": [
      "the number of business_ids the two datasets have in common: 85539\n"
     ]
    }
   ],
   "source": [
    "print 'The number of business_ids the two datasets have in common:', len(set(review['business_id']) & set(business['business_id']))"
   ]
  },
  {
   "cell_type": "code",
   "execution_count": 29,
   "metadata": {
    "collapsed": false
   },
   "outputs": [
    {
     "name": "stdout",
     "output_type": "stream",
     "text": [
      "the number of blank business categories: 241\n"
     ]
    }
   ],
   "source": [
    "category_len = [len(c) for c in business['categories']]\n",
    "print 'the number of blank business categories:', sum(np.array(category_len) == 0)"
   ]
  },
  {
   "cell_type": "code",
   "execution_count": 30,
   "metadata": {
    "collapsed": true
   },
   "outputs": [],
   "source": [
    "for cat in business['categories'][np.array(category_len) == 0]:\n",
    "    cat.append('NA')"
   ]
  },
  {
   "cell_type": "code",
   "execution_count": 31,
   "metadata": {
    "collapsed": false
   },
   "outputs": [
    {
     "data": {
      "text/plain": [
       "Restaurants                     26729\n",
       "Shopping                        12406\n",
       "Food                             6978\n",
       "Beauty & Spas                    6676\n",
       "Home Services                    5475\n",
       "Health & Medical                 5239\n",
       "Automotive                       4456\n",
       "Local Services                   3051\n",
       "Active Life                      2976\n",
       "Nightlife                        2529\n",
       "Event Planning & Services        2472\n",
       "Pets                             1600\n",
       "Arts & Entertainment             1200\n",
       "Hotels & Travel                  1026\n",
       "Financial Services                952\n",
       "Professional Services             527\n",
       "Education                         489\n",
       "Public Services & Government      425\n",
       "NA                                241\n",
       "Religious Organizations           226\n",
       "Local Flavor                      133\n",
       "Mass Media                         95\n",
       "dtype: int64"
      ]
     },
     "execution_count": 31,
     "metadata": {},
     "output_type": "execute_result"
    }
   ],
   "source": [
    "# count the frequencies of all categories\n",
    "categories_all = sum(business['categories'], [])\n",
    "categories_all_count = pd.value_counts(categories_all)\n",
    "\n",
    "# for each business listing, find the category description that is most common to all\n",
    "categories = business['categories']\n",
    "categories_count = [[categories_all_count[c] for c in category] for category in categories]\n",
    "\n",
    "most_common_ix = [np.argmax(counts) for counts in categories_count]\n",
    "most_common_categories = [categories[i][most_common_ix[i]] for i in xrange(len(categories))]\n",
    "\n",
    "# count again\n",
    "pd.value_counts(most_common_categories)"
   ]
  },
  {
   "cell_type": "code",
   "execution_count": 32,
   "metadata": {
    "collapsed": true
   },
   "outputs": [],
   "source": [
    "# better, but there's still categories that can be grouped together (based on subjective reviews)\n",
    "category_map = {'Food': 'Restaurants', 'Local Flavor': 'Arts & Entertainment', 'Mass Media': 'Arts & Entertainment'}\n",
    "most_common_categories = [category_map[category] if category in category_map else category\n",
    "                          for category in most_common_categories]\n",
    "business['category'] = most_common_categories"
   ]
  },
  {
   "cell_type": "code",
   "execution_count": 33,
   "metadata": {
    "collapsed": true
   },
   "outputs": [],
   "source": [
    "business['price'] = [attr['Price Range'] if 'Price Range' in attr else np.nan for attr in business['attributes']]"
   ]
  },
  {
   "cell_type": "code",
   "execution_count": 36,
   "metadata": {
    "collapsed": true
   },
   "outputs": [],
   "source": [
    "business['state'] = [state if state in ['AZ', 'NV', 'WI', 'PA', 'NC'] else 'Others'\n",
    "                     for state in business['state']]"
   ]
  },
  {
   "cell_type": "code",
   "execution_count": 37,
   "metadata": {
    "collapsed": true
   },
   "outputs": [],
   "source": [
    "# select fields to save\n",
    "business = business[['business_id', 'category', 'price', 'state']]\n",
    "business.to_pickle('business.pkl')"
   ]
  },
  {
   "cell_type": "code",
   "execution_count": 38,
   "metadata": {
    "collapsed": true
   },
   "outputs": [],
   "source": [
    "reviews = pd.merge(review, business, how = 'left', on = 'business_id')"
   ]
  },
  {
   "cell_type": "code",
   "execution_count": 40,
   "metadata": {
    "collapsed": false
   },
   "outputs": [
    {
     "data": {
      "text/plain": [
       "(2685066, 12)"
      ]
     },
     "execution_count": 40,
     "metadata": {},
     "output_type": "execute_result"
    }
   ],
   "source": [
    "reviews.shape"
   ]
  },
  {
   "cell_type": "code",
   "execution_count": 42,
   "metadata": {
    "collapsed": false
   },
   "outputs": [
    {
     "data": {
      "image/png": "[encoded data removed]",
      "text/plain": [
       "<matplotlib.figure.Figure at 0x32d9c4cc0>"
      ]
     },
     "metadata": {},
     "output_type": "display_data"
    }
   ],
   "source": [
    "# analyze the number of reviews and ratings per category\n",
    "fig, axs = plt.subplots(1, 2)\n",
    "pd.value_counts(reviews['category']).plot(kind = 'bar', ax = axs[0], figsize = (16, 4))\n",
    "sns.boxplot(reviews['category'],reviews['stars'],order = pd.value_counts(reviews['category']).index, ax = axs[1])\n",
    "\n",
    "# rotate labels for the boxplot\n",
    "for tick in axs[1].xaxis.get_major_ticks():\n",
    "    tick.label.set_rotation('vertical')"
   ]
  },
  {
   "cell_type": "code",
   "execution_count": 45,
   "metadata": {
    "collapsed": true
   },
   "outputs": [],
   "source": [
    "pd.to_pickle(reviews, 'reviews.pkl')"
   ]
  },
  {
   "cell_type": "code",
   "execution_count": 3,
   "metadata": {
    "collapsed": true
   },
   "outputs": [],
   "source": [
    "import pandas as pd\n",
    "from pandas import DataFrame\n",
    "import numpy as np\n",
    "import re\n",
    "from sklearn.feature_extraction.text import CountVectorizer\n",
    "import cPickle as pickle\n",
    "from __future__ import division\n",
    "from scipy.sparse import csr_matrix\n",
    "import matplotlib.pyplot as plt\n",
    "import seaborn as sns"
   ]
  },
  {
   "cell_type": "code",
   "execution_count": 54,
   "metadata": {
    "collapsed": true
   },
   "outputs": [],
   "source": [
    "# split into training and test set with equal proportions for each category and rating (i.e., stratified sampling)\n",
    "def group_sample(group):\n",
    "    ix = list(group.index)\n",
    "    np.random.seed(2014)\n",
    "    np.random.shuffle(ix)\n",
    "    \n",
    "    train_ix, test_ix = ix[:int(.7 * len(ix))], ix[int(.7 * len(ix)):]\n",
    "    return (train_ix, test_ix)\n",
    "\n",
    "ixs = reviews.groupby(['category', 'stars']).apply(group_sample)\n",
    "train_ix, test_ix = sum([ix[0] for ix in ixs], []), sum([ix[1] for ix in ixs], [])\n",
    "\n",
    "reviews_train = reviews.ix[train_ix]\n",
    "reviews_test = reviews.ix[test_ix]"
   ]
  },
  {
   "cell_type": "code",
   "execution_count": null,
   "metadata": {
    "collapsed": true
   },
   "outputs": [],
   "source": [
    "reviews_train.to_pickle('reviews_train.pkl')\n",
    "reviews_test.to_pickle('reviews_test.pkl')"
   ]
  },
  {
   "cell_type": "code",
   "execution_count": 4,
   "metadata": {
    "collapsed": false
   },
   "outputs": [],
   "source": [
    "reviews_train = pd.read_pickle('reviews_train.pkl')"
   ]
  },
  {
   "cell_type": "code",
   "execution_count": 5,
   "metadata": {
    "collapsed": true
   },
   "outputs": [],
   "source": [
    "# Making the dataset only for restaurants\n",
    "reviews_train = reviews_train[reviews_train['category'] == 'Restaurants']"
   ]
  },
  {
   "cell_type": "code",
   "execution_count": 6,
   "metadata": {
    "collapsed": false
   },
   "outputs": [],
   "source": [
    "# Making the dataset only for Nevada state\n",
    "reviews_train = reviews_train[reviews_train['state'] == 'NV']"
   ]
  },
  {
   "cell_type": "code",
   "execution_count": 7,
   "metadata": {
    "collapsed": true
   },
   "outputs": [],
   "source": [
    "# clean reviews by keeping only alphabetic characters and exclamation marks\n",
    "text_cleaned = [re.sub(r'!', ' exclamation', text) for text in reviews_train['text']]\n",
    "text_cleaned = [text.lower() for text in text_cleaned]\n",
    "text_cleaned = [re.sub(r'[^a-z]', ' ', text) for text in text_cleaned]\n",
    "reviews_train['text_cleaned'] = text_cleaned"
   ]
  },
  {
   "cell_type": "code",
   "execution_count": 8,
   "metadata": {
    "collapsed": false
   },
   "outputs": [
    {
     "data": {
      "text/plain": [
       "(505807, 10290)"
      ]
     },
     "execution_count": 8,
     "metadata": {},
     "output_type": "execute_result"
    }
   ],
   "source": [
    "# create document-term matrix using the cleaned reviews\n",
    "vectorizer = CountVectorizer(min_df = 100)\n",
    "dtm = vectorizer.fit_transform(reviews_train['text_cleaned'])\n",
    "dtm.shape"
   ]
  },
  {
   "cell_type": "code",
   "execution_count": 9,
   "metadata": {
    "collapsed": true
   },
   "outputs": [],
   "source": [
    "# calculate the total frequency across all documents for each word (i.e., the column sums)\n",
    "freq = csr_matrix.sum(dtm, 0)\n",
    "\n",
    "# devide the individual frequency by the total frequency to calculate the percentage of time a word \"spends\" on each document\n",
    "freq_inverse = np.repeat(1, freq.shape[1]) / freq\n",
    "freq_inverse = csr_matrix(freq_inverse)\n",
    "dtm_prc = dtm.multiply(freq_inverse)"
   ]
  },
  {
   "cell_type": "code",
   "execution_count": 10,
   "metadata": {
    "collapsed": false
   },
   "outputs": [
    {
     "data": {
      "text/plain": [
       "<matplotlib.axes._subplots.AxesSubplot at 0xc3a98390>"
      ]
     },
     "execution_count": 10,
     "metadata": {},
     "output_type": "execute_result"
    },
    {
     "data": {
      "image/png": "[encoded data removed]",
      "text/plain": [
       "<matplotlib.figure.Figure at 0xa7af5d68>"
      ]
     },
     "metadata": {},
     "output_type": "display_data"
    }
   ],
   "source": [
    "# calculate the sentiment score for each word by weighting its percentage frequency by the number of stars\n",
    "# first normalize the star ratings to [-1, 1]:\n",
    "def normalization(series):\n",
    "    return (2 * series - (series.max() + series.min())) / (series.max() - series.min())\n",
    "stars_norm = normalization(reviews_train['stars'])\n",
    "\n",
    "# calculate word scores using the normlized star ratings\n",
    "word_score = dtm_prc.T * stars_norm\n",
    "sns.distplot(word_score, kde = False)"
   ]
  },
  {
   "cell_type": "code",
   "execution_count": 11,
   "metadata": {
    "collapsed": true
   },
   "outputs": [],
   "source": [
    "# combine with the terms\n",
    "word2score = dict(zip(vectorizer.get_feature_names(), word_score))"
   ]
  },
  {
   "cell_type": "code",
   "execution_count": 12,
   "metadata": {
    "collapsed": false
   },
   "outputs": [
    {
     "data": {
      "text/plain": [
       "[(u'paco', 0.88356164383561364),\n",
       " (u'olivier', 0.85875706214689107),\n",
       " (u'gangnam', 0.82781456953642618),\n",
       " (u'gem', 0.82569974554706349),\n",
       " (u'yummmmm', 0.81528662420382159),\n",
       " (u'haves', 0.81502890173410669),\n",
       " (u'biaggio', 0.80808080808080762),\n",
       " (u'hokkaido', 0.80040322580645096),\n",
       " (u'unparalleled', 0.79545454545454386),\n",
       " (u'mahalo', 0.79320987654321207),\n",
       " (u'donna', 0.79132231404958508),\n",
       " (u'royalty', 0.78846153846154066),\n",
       " (u'okinawa', 0.78521126760563309),\n",
       " (u'symphony', 0.7850467289719627),\n",
       " (u'devine', 0.78497409326425038),\n",
       " (u'jewel', 0.78451178451178272),\n",
       " (u'goooood', 0.78358208955224018),\n",
       " (u'passionate', 0.7830396475770961),\n",
       " (u'reina', 0.78169014084506971),\n",
       " (u'exceeded', 0.78043478260870525),\n",
       " (u'incredible', 0.77967958373264379),\n",
       " (u'remembers', 0.77948113207547765),\n",
       " (u'unmatched', 0.77499999999999969),\n",
       " (u'impeccable', 0.7747339377216913),\n",
       " (u'delicioso', 0.77428571428571324),\n",
       " (u'bronze', 0.77393617021276617),\n",
       " (u'mazing', 0.77346938775510454),\n",
       " (u'savored', 0.77289377289377048),\n",
       " (u'surpassed', 0.77074235807860414),\n",
       " (u'amazeballs', 0.76938775510204305)]"
      ]
     },
     "execution_count": 12,
     "metadata": {},
     "output_type": "execute_result"
    }
   ],
   "source": [
    "# check out the most favorable words\n",
    "sorted(word2score.items(), key = lambda x: -x[1])[:30]"
   ]
  },
  {
   "cell_type": "code",
   "execution_count": 13,
   "metadata": {
    "collapsed": false
   },
   "outputs": [
    {
     "data": {
      "text/plain": [
       "[(u'refund', -0.79343220338983445),\n",
       " (u'disgrace', -0.76515151515151458),\n",
       " (u'roaches', -0.74842767295597479),\n",
       " (u'poisoning', -0.74748257164987475),\n",
       " (u'disrespect', -0.74000000000000055),\n",
       " (u'aweful', -0.73873873873873863),\n",
       " (u'cockroach', -0.73674911660777542),\n",
       " (u'rudest', -0.73655913978494569),\n",
       " (u'audacity', -0.73550724637681197),\n",
       " (u'incompetent', -0.72187500000000149),\n",
       " (u'rudely', -0.70885200553250127),\n",
       " (u'confronted', -0.70703125),\n",
       " (u'diarrhea', -0.70464135021096885),\n",
       " (u'worst', -0.704030758830551),\n",
       " (u'disrespectful', -0.70234113712374546),\n",
       " (u'unprofessional', -0.69642857142857062),\n",
       " (u'disgusted', -0.68692449355432983),\n",
       " (u'scam', -0.68548387096774277),\n",
       " (u'vomiting', -0.6821192052980134),\n",
       " (u'disgusting', -0.68162453848336835),\n",
       " (u'roach', -0.65916955017301138),\n",
       " (u'replies', -0.65454545454545388),\n",
       " (u'compensation', -0.65340909090909083),\n",
       " (u'injury', -0.6528497409326437),\n",
       " (u'accused', -0.64864864864864868),\n",
       " (u'blamed', -0.64778325123152858),\n",
       " (u'horrible', -0.64694735107519352),\n",
       " (u'unsanitary', -0.63742690058479434),\n",
       " (u'insulted', -0.63661202185792409),\n",
       " (u'filthy', -0.63055954088953226)]"
      ]
     },
     "execution_count": 13,
     "metadata": {},
     "output_type": "execute_result"
    }
   ],
   "source": [
    "# check out the most negative words\n",
    "sorted(word2score.items(), key = lambda x: x[1])[:30]"
   ]
  },
  {
   "cell_type": "code",
   "execution_count": 43,
   "metadata": {
    "collapsed": true
   },
   "outputs": [],
   "source": [
    "with open('word2score.pkl', 'wb') as output:\n",
    "    pickle.dump(word2score, output)"
   ]
  },
  {
   "cell_type": "code",
   "execution_count": 14,
   "metadata": {
    "collapsed": true
   },
   "outputs": [],
   "source": [
    "# calculate sentiment scores for each reviews\n",
    "review_score = dtm * np.atleast_2d(word_score).T\n",
    "\n",
    "# divide the scores by the total number of words in each document\n",
    "dtm_row_sum = csr_matrix.sum(dtm, 1)\n",
    "review_score = review_score / dtm_row_sum"
   ]
  },
  {
   "cell_type": "code",
   "execution_count": 15,
   "metadata": {
    "collapsed": false
   },
   "outputs": [
    {
     "name": "stdout",
     "output_type": "stream",
     "text": [
      "the number of reviews with NA scores: 94\n"
     ]
    }
   ],
   "source": [
    "# for reviews that don't include any words in the dtm, replace the 0 scores with NAs\n",
    "review_score[dtm_row_sum == 0] = np.nan\n",
    "print 'the number of reviews with NA scores:', sum(pd.isnull(review_score))[0, 0]"
   ]
  },
  {
   "cell_type": "code",
   "execution_count": 16,
   "metadata": {
    "collapsed": false
   },
   "outputs": [],
   "source": [
    "# combine scores with the reviews\n",
    "reviews_train['score'] = review_score\n",
    "\n",
    "# visualize distribution of the scores\n",
    "#fig, axs = plt.subplots(1, 2)\n",
    "#reviews_train['score'].hist(bins = 60, ax = axs[0], figsize = (16, 4))\n",
    "#sns.boxplot(reviews_train['score'], reviews_train['stars'])"
   ]
  },
  {
   "cell_type": "code",
   "execution_count": 17,
   "metadata": {
    "collapsed": false
   },
   "outputs": [
    {
     "name": "stdout",
     "output_type": "stream",
     "text": [
      "the most favorite reviews by star:\n"
     ]
    },
    {
     "name": "stderr",
     "output_type": "stream",
     "text": [
      "C:\\Users\\Suhas\\Anaconda2\\lib\\site-packages\\ipykernel\\__main__.py:2: FutureWarning: sort(columns=....) is deprecated, use sort_values(by=.....)\n",
      "  from ipykernel import kernelapp as app\n"
     ]
    },
    {
     "name": "stdout",
     "output_type": "stream",
     "text": [
      "stars         \n",
      "1      1704205                                                Yummy\n",
      "       678333                                             Unlike !!\n",
      "       269239                                   Closed!!!!!!!!  :-/\n",
      "       229395                                                   chi\n",
      "       1604079                                   I love the bignets\n",
      "2      1825282               I love this place is so delicious!!!!!\n",
      "       595209                     Enjoyed the view at Bon Ami Gabi.\n",
      "       980115     Once again delish!  The breakfast burrito with...\n",
      "       1309081    Auf der Suche nach einem guten Burger am Strip...\n",
      "       593032     Wir haben die durchweg positiven Bewertungen f...\n",
      "3      2002722                                                  Yum\n",
      "       879128                                              Friendly\n",
      "       2558127                                               Yummy!\n",
      "       1636869                               Awesome Spam Musabi!!!\n",
      "       228451                                                Oishi!\n",
      "4      720272                                             Yummmm...\n",
      "       2518459                                                 Yumm\n",
      "       555578                                               Awesome\n",
      "       1968949                                              awesome\n",
      "       1708637                                               Mmmmmm\n",
      "5      1834912                            Simplemente  DELICIOSO =0\n",
      "       253483                                           Hidden gem.\n",
      "       756260                                               Amazing\n",
      "       1871073                                              amazing\n",
      "       1633278                                              Amazing\n",
      "Name: text, dtype: object\n",
      "\n",
      "the least favorite reviews by star:\n"
     ]
    },
    {
     "name": "stderr",
     "output_type": "stream",
     "text": [
      "C:\\Users\\Suhas\\Anaconda2\\lib\\site-packages\\ipykernel\\__main__.py:5: FutureWarning: sort(columns=....) is deprecated, use sort_values(by=.....)\n"
     ]
    },
    {
     "name": "stdout",
     "output_type": "stream",
     "text": [
      "stars         \n",
      "1      1938976                                             horrible\n",
      "       933171                                             terrible.\n",
      "       1562143                                               Gross.\n",
      "       529240                                                  puke\n",
      "       476184                                                 Sucks\n",
      "2      667248                                             Pathetic.\n",
      "       1377966                                                dirty\n",
      "       705712                                                 Bland\n",
      "       1691531                                        rude serviced\n",
      "       2673228                           Overpriced. Disappointing.\n",
      "3      1060343                                           Overrated.\n",
      "       2390736                                        Sorry mistake\n",
      "       1067168                                                 Meh.\n",
      "       1380429    朝7時の開店直後にソーセージ・エッグ・サンドイッチを注文。同時に頼むとコーヒーは$1だったの...\n",
      "       804291                               Meh. I was unimpressed.\n",
      "4      1622406                                                 Blah\n",
      "       2069386                                                 A-ok\n",
      "       631911             Not bad. A bit overpriced. Coffee subpar.\n",
      "       998283                                             Closed :(\n",
      "       1534599    To add up  unfortunately your restrooms are so...\n",
      "5      946021                                                    Ok\n",
      "       2028103    凯撒宫的自助餐，怎么可以这么棒！帝王蟹生蚝虾蟹鲜美无比，羊排叉烧披萨提拉米苏布丁每一样都想说...\n",
      "       1648059                                                 Okay\n",
      "       918449                               sorry to report: CLOSED\n",
      "       516328                                               closed.\n",
      "Name: text, dtype: object\n"
     ]
    }
   ],
   "source": [
    "print 'the most favorite reviews by star:'\n",
    "print reviews_train.groupby('stars').apply(lambda x: x.sort('score', ascending = False)['text'][:5])\n",
    "print\n",
    "print 'the least favorite reviews by star:'\n",
    "print reviews_train.groupby('stars').apply(lambda x: x.sort('score')['text'][:5])"
   ]
  },
  {
   "cell_type": "code",
   "execution_count": 18,
   "metadata": {
    "collapsed": false
   },
   "outputs": [
    {
     "name": "stderr",
     "output_type": "stream",
     "text": [
      "C:\\Users\\Suhas\\Anaconda2\\lib\\site-packages\\ipykernel\\__main__.py:2: FutureWarning: sort(columns=....) is deprecated, use sort_values(by=.....)\n",
      "  from ipykernel import kernelapp as app\n"
     ]
    },
    {
     "name": "stdout",
     "output_type": "stream",
     "text": [
      "business id: vFZAKJv9u0NsEEnQhikyEA\n",
      "stars: 5\n",
      "scores: 0.774286\n",
      "reviews: Simplemente  DELICIOSO =0 \n",
      "\n",
      "***************************************************************************************************\n",
      "\n",
      "business id: ZZtEx_UutNxz9B5knTL4tQ\n",
      "stars: 5\n",
      "scores: 0.754092\n",
      "reviews: Hidden gem. \n",
      "\n",
      "***************************************************************************************************\n",
      "\n",
      "business id: 3uUYfeMGAywRy1aN01n-Sg\n",
      "stars: 5\n",
      "scores: 0.750651\n",
      "reviews: Amazing \n",
      "\n",
      "***************************************************************************************************\n",
      "\n",
      "business id: 9Bnc9YP0n5cR57xkP6fQmQ\n",
      "stars: 5\n",
      "scores: 0.750651\n",
      "reviews: amazing \n",
      "\n",
      "***************************************************************************************************\n",
      "\n",
      "business id: tFU2Js_nbIZOrnKfYJYBBg\n",
      "stars: 5\n",
      "scores: 0.750651\n",
      "reviews: Amazing \n",
      "\n",
      "***************************************************************************************************\n",
      "\n",
      "business id: aGbjLWzcrnEx2ZmMCFm3EA\n",
      "stars: 5\n",
      "scores: 0.750651\n",
      "reviews: Amazing Burgrs. \n",
      "\n",
      "***************************************************************************************************\n",
      "\n",
      "business id: _CHH9KN1bO5cs_GHjQ-r1A\n",
      "stars: 5\n",
      "scores: 0.750651\n",
      "reviews: Amazing \n",
      "\n",
      "***************************************************************************************************\n",
      "\n",
      "business id: naLrErBuJr9IWd6_rv6-XQ\n",
      "stars: 5\n",
      "scores: 0.750651\n",
      "reviews: Amazing. \n",
      "\n",
      "***************************************************************************************************\n",
      "\n",
      "business id: Lp-A-JNRUUH72uou5-pMtQ\n",
      "stars: 5\n",
      "scores: 0.750651\n",
      "reviews: amazing Jumbalaya \n",
      "\n",
      "***************************************************************************************************\n",
      "\n",
      "business id: qLa_684GMvVfR4WNHshQSA\n",
      "stars: 5\n",
      "scores: 0.750651\n",
      "reviews: amazing \n",
      "\n",
      "***************************************************************************************************\n",
      "\n"
     ]
    }
   ],
   "source": [
    "# check out the most favorable reviews\n",
    "reviews_train_excl_na = reviews_train.dropna(subset = ['score']).sort(columns = 'score', ascending = False)\n",
    "for i in xrange(10):\n",
    "    print 'business id:', reviews_train_excl_na.iloc[i]['business_id']\n",
    "    print 'stars: %d\\nscores: %f' % (reviews_train_excl_na.iloc[i]['stars'], reviews_train_excl_na.iloc[i]['score'])\n",
    "    print 'reviews:', reviews_train_excl_na.iloc[i]['text'], '\\n'\n",
    "    print '***************************************************************************************************\\n'"
   ]
  },
  {
   "cell_type": "code",
   "execution_count": 19,
   "metadata": {
    "collapsed": false
   },
   "outputs": [
    {
     "name": "stdout",
     "output_type": "stream",
     "text": [
      "business id: nREHMbIzWdfWtOh4l1bT3g\n",
      "stars: 1\n",
      "scores: -0.646947\n",
      "reviews: horrible \n",
      "\n",
      "***************************************************************************************************\n",
      "\n",
      "business id: 2dioqPw6txEgB397frYg-A\n",
      "stars: 2\n",
      "scores: -0.623737\n",
      "reviews: Pathetic. \n",
      "\n",
      "***************************************************************************************************\n",
      "\n",
      "business id: LTMEAdWM4m5tIDCSrkALIg\n",
      "stars: 1\n",
      "scores: -0.549584\n",
      "reviews: terrible. \n",
      "\n",
      "***************************************************************************************************\n",
      "\n",
      "business id: yOLyhudDoL2faBOK0dAN3Q\n",
      "stars: 1\n",
      "scores: -0.427605\n",
      "reviews: Gross. \n",
      "\n",
      "***************************************************************************************************\n",
      "\n",
      "business id: STdtJjZrcV1_-hs5pafS2w\n",
      "stars: 1\n",
      "scores: -0.403571\n",
      "reviews: puke \n",
      "\n",
      "***************************************************************************************************\n",
      "\n",
      "business id: tqu42L0qXzkvYKSruOz0IA\n",
      "stars: 1\n",
      "scores: -0.351281\n",
      "reviews: Sucks \n",
      "\n",
      "***************************************************************************************************\n",
      "\n",
      "business id: vCSF4RjKuTtTKN28VlZvIA\n",
      "stars: 1\n",
      "scores: -0.284764\n",
      "reviews: Manager ??????? \n",
      "\n",
      "***************************************************************************************************\n",
      "\n",
      "business id: 0ik871AZ59p77xpkA0RwSA\n",
      "stars: 2\n",
      "scores: -0.272450\n",
      "reviews: dirty \n",
      "\n",
      "***************************************************************************************************\n",
      "\n",
      "business id: UpMR63WZgIn8VDKnYpDwXA\n",
      "stars: 2\n",
      "scores: -0.263717\n",
      "reviews: Bland \n",
      "\n",
      "***************************************************************************************************\n",
      "\n",
      "business id: sSkoeqwqB6PPBJv1rzkWtw\n",
      "stars: 2\n",
      "scores: -0.255039\n",
      "reviews: rude serviced \n",
      "\n",
      "***************************************************************************************************\n",
      "\n"
     ]
    }
   ],
   "source": [
    "# and the least favorable ones\n",
    "base_ind = len(reviews_train_excl_na) - 1\n",
    "for i in xrange(10):\n",
    "    print 'business id:', reviews_train_excl_na.iloc[base_ind - i]['business_id']\n",
    "    print 'stars: %d\\nscores: %f' % (reviews_train_excl_na.iloc[base_ind - i]['stars'], \n",
    "                                               reviews_train_excl_na.iloc[base_ind - i]['score'])\n",
    "    print 'reviews:', reviews_train_excl_na.iloc[base_ind - i]['text'], '\\n'\n",
    "    print '***************************************************************************************************\\n'"
   ]
  },
  {
   "cell_type": "code",
   "execution_count": 20,
   "metadata": {
    "collapsed": false
   },
   "outputs": [
    {
     "name": "stderr",
     "output_type": "stream",
     "text": [
      "C:\\Users\\Suhas\\Anaconda2\\lib\\site-packages\\sklearn\\cross_validation.py:44: DeprecationWarning: This module was deprecated in version 0.18 in favor of the model_selection module into which all the refactored classes and functions are moved. Also note that the interface of the new CV iterators are different from that of this module. This module will be removed in 0.20.\n",
      "  \"This module will be removed in 0.20.\", DeprecationWarning)\n",
      "C:\\Users\\Suhas\\Anaconda2\\lib\\site-packages\\sklearn\\grid_search.py:43: DeprecationWarning: This module was deprecated in version 0.18 in favor of the model_selection module into which all the refactored classes and functions are moved. This module will be removed in 0.20.\n",
      "  DeprecationWarning)\n"
     ]
    }
   ],
   "source": [
    "import pandas as pd\n",
    "import numpy as np\n",
    "from sklearn import cross_validation, metrics, linear_model, ensemble, tree, grid_search, externals\n",
    "from time import time"
   ]
  },
  {
   "cell_type": "code",
   "execution_count": 21,
   "metadata": {
    "collapsed": true
   },
   "outputs": [],
   "source": [
    "reviews_train_excl_na = reviews_train.dropna(subset = ['score'])"
   ]
  },
  {
   "cell_type": "code",
   "execution_count": 22,
   "metadata": {
    "collapsed": true
   },
   "outputs": [],
   "source": [
    "# create input and output variables\n",
    "score = reviews_train_excl_na['score']\n",
    "score = np.atleast_2d(score).T # the feature set needs to be 2-dimensional\n",
    "stars = reviews_train_excl_na['stars']"
   ]
  },
  {
   "cell_type": "code",
   "execution_count": 23,
   "metadata": {
    "collapsed": false
   },
   "outputs": [],
   "source": [
    "scorer_mae = metrics.make_scorer(metrics.mean_absolute_error, greater_is_better = False)"
   ]
  },
  {
   "cell_type": "code",
   "execution_count": 24,
   "metadata": {
    "collapsed": true
   },
   "outputs": [],
   "source": [
    "logit_clf = linear_model.LogisticRegression(random_state = 2016)\n",
    "\n",
    "t0 = time()\n",
    "logit_scores_mae = cross_validation.cross_val_score(logit_clf, score, stars, cv = 10, scoring = scorer_mae)\n",
    "t1 = time()"
   ]
  },
  {
   "cell_type": "code",
   "execution_count": 25,
   "metadata": {
    "collapsed": false
   },
   "outputs": [
    {
     "name": "stdout",
     "output_type": "stream",
     "text": [
      "logistic regression using mean-absolute-error scoring function\n",
      "time used: 29 seconds\n",
      "scores: -0.712 (+/-0.003)\n"
     ]
    }
   ],
   "source": [
    "print 'logistic regression using mean-absolute-error scoring function'\n",
    "print 'time used: %d seconds' % (t1 - t0)\n",
    "print 'scores: %0.3f (+/-%0.03f)' % (logit_scores_mae.mean(), logit_scores_mae.std())"
   ]
  },
  {
   "cell_type": "code",
   "execution_count": 29,
   "metadata": {
    "collapsed": false
   },
   "outputs": [],
   "source": [
    "bag_clf = ensemble.BaggingClassifier(tree.DecisionTreeClassifier(), n_estimators = 100, n_jobs = -1, random_state = 2014)\n",
    "\n",
    "t0 = time()\n",
    "#bag_scores_mae = cross_validation.cross_val_score(bag_clf, score, stars, cv = 3, scoring = scorer_mae)\n",
    "bag_scores_mae = bag_clf.fit(score, stars) #scoring = scorer_mae)\n",
    "t1 = time()"
   ]
  },
  {
   "cell_type": "code",
   "execution_count": 34,
   "metadata": {
    "collapsed": false
   },
   "outputs": [],
   "source": [
    "# gradient boost trees\n",
    "gbm_clf = ensemble.GradientBoostingClassifier(n_estimators = 100, random_state = 2016, criterion = 'mse')\n",
    "\n",
    "t0 = time()\n",
    "gbm_clf.fit(score, stars)\n",
    "t1 = time()"
   ]
  },
  {
   "cell_type": "code",
   "execution_count": 36,
   "metadata": {
    "collapsed": false
   },
   "outputs": [
    {
     "data": {
      "text/plain": [
       "['gbm_clf.pkl']"
      ]
     },
     "execution_count": 36,
     "metadata": {},
     "output_type": "execute_result"
    }
   ],
   "source": [
    "# save the model\n",
    "externals.joblib.dump(gbm_clf, 'gbm_clf.pkl')"
   ]
  },
  {
   "cell_type": "code",
   "execution_count": 37,
   "metadata": {
    "collapsed": false
   },
   "outputs": [
    {
     "data": {
      "text/plain": [
       "['bag_scores_mae.pkl']"
      ]
     },
     "execution_count": 37,
     "metadata": {},
     "output_type": "execute_result"
    }
   ],
   "source": [
    "# save the model\n",
    "externals.joblib.dump(bag_scores_mae, 'bag_scores_mae.pkl')"
   ]
  },
  {
   "cell_type": "code",
   "execution_count": 38,
   "metadata": {
    "collapsed": true
   },
   "outputs": [],
   "source": [
    "reviews_test = pd.read_pickle('reviews_test.pkl')"
   ]
  },
  {
   "cell_type": "code",
   "execution_count": 40,
   "metadata": {
    "collapsed": true
   },
   "outputs": [],
   "source": [
    "# Making the dataset only for restaurants\n",
    "reviews_test = reviews_test[reviews_test['category'] == 'Restaurants']"
   ]
  },
  {
   "cell_type": "code",
   "execution_count": 41,
   "metadata": {
    "collapsed": true
   },
   "outputs": [],
   "source": [
    "# Making the dataset only for Nevada state\n",
    "reviews_test = reviews_test[reviews_test['state'] == 'NV']"
   ]
  },
  {
   "cell_type": "code",
   "execution_count": 42,
   "metadata": {
    "collapsed": true
   },
   "outputs": [],
   "source": [
    "# clean test reviews\n",
    "text_cleaned = [re.sub(r'!', ' exclamation', text) for text in reviews_test['text']]\n",
    "text_cleaned = [text.lower() for text in text_cleaned]\n",
    "text_cleaned = [re.sub(r'[^a-z]', ' ', text) for text in text_cleaned]\n",
    "reviews_test['text_cleaned'] = text_cleaned"
   ]
  },
  {
   "cell_type": "code",
   "execution_count": 44,
   "metadata": {
    "collapsed": true
   },
   "outputs": [],
   "source": [
    "# create document-term matrix using only the words used in the training dtm\n",
    "with open('word2score.pkl', 'rb') as w2s_input:\n",
    "    word2score = pickle.load(w2s_input)"
   ]
  },
  {
   "cell_type": "code",
   "execution_count": 45,
   "metadata": {
    "collapsed": false
   },
   "outputs": [
    {
     "data": {
      "text/plain": [
       "(216392, 10290)"
      ]
     },
     "execution_count": 45,
     "metadata": {},
     "output_type": "execute_result"
    }
   ],
   "source": [
    "vectorizer = CountVectorizer(vocabulary = word2score.keys())\n",
    "dtm = vectorizer.fit_transform(reviews_test['text_cleaned'])\n",
    "dtm.shape"
   ]
  },
  {
   "cell_type": "code",
   "execution_count": 46,
   "metadata": {
    "collapsed": false
   },
   "outputs": [
    {
     "name": "stdout",
     "output_type": "stream",
     "text": [
      "the number of reviews with NA scores: 38\n"
     ]
    }
   ],
   "source": [
    "# look up word scores and compute sentiment scores\n",
    "word_score = np.array([word2score[word] for word in vectorizer.get_feature_names()])\n",
    "review_score = dtm * np.atleast_2d(word_score).T\n",
    "\n",
    "dtm_row_sum = csr_matrix.sum(dtm, 1)\n",
    "review_score = review_score / dtm_row_sum\n",
    "\n",
    "review_score[dtm_row_sum == 0] = np.nan\n",
    "print 'the number of reviews with NA scores:', sum(pd.isnull(review_score))[0, 0]"
   ]
  },
  {
   "cell_type": "code",
   "execution_count": 50,
   "metadata": {
    "collapsed": false
   },
   "outputs": [
    {
     "name": "stderr",
     "output_type": "stream",
     "text": [
      "C:\\Users\\Suhas\\Anaconda2\\lib\\site-packages\\ipykernel\\__main__.py:3: FutureWarning: sort(columns=....) is deprecated, use sort_values(by=.....)\n",
      "  app.launch_new_instance()\n"
     ]
    }
   ],
   "source": [
    "# check out the most favorable reviews\n",
    "reviews_test['score'] = review_score\n",
    "reviews_test_excl_na = reviews_test.dropna(subset = ['score']).sort(columns = 'score', ascending = False)"
   ]
  },
  {
   "cell_type": "code",
   "execution_count": 51,
   "metadata": {
    "collapsed": true
   },
   "outputs": [],
   "source": [
    "pd.to_pickle(reviews_test, 'reviews_test.pkl')"
   ]
  },
  {
   "cell_type": "code",
   "execution_count": 52,
   "metadata": {
    "collapsed": true
   },
   "outputs": [],
   "source": [
    "gbm_clf = externals.joblib.load('gbm_clf.pkl')"
   ]
  },
  {
   "cell_type": "code",
   "execution_count": 53,
   "metadata": {
    "collapsed": false
   },
   "outputs": [],
   "source": [
    "score = reviews_test_excl_na['score']\n",
    "score = np.atleast_2d(score).T\n",
    "stars = reviews_test_excl_na['stars']"
   ]
  },
  {
   "cell_type": "code",
   "execution_count": 54,
   "metadata": {
    "collapsed": false
   },
   "outputs": [
    {
     "name": "stdout",
     "output_type": "stream",
     "text": [
      "the mean absolute error: 0.595020198379\n",
      "the accuracy score: 0.522832949703\n"
     ]
    }
   ],
   "source": [
    "stars_pred = gbm_clf.predict(score)\n",
    "\n",
    "print 'the accuracy score:', metrics.accuracy_score(stars, stars_pred)\n",
    "print 'the mean absolute error:', metrics.mean_absolute_error(stars, stars_pred)\n",
    "print 'the mean absolute percentage error:',mean_absolute_percentage_error(stars, stars_pred)"
   ]
  },
  {
   "cell_type": "code",
   "execution_count": 55,
   "metadata": {
    "collapsed": true
   },
   "outputs": [],
   "source": [
    "bag_scores_mae = externals.joblib.load('bag_scores_mae.pkl')"
   ]
  },
  {
   "cell_type": "code",
   "execution_count": 56,
   "metadata": {
    "collapsed": false
   },
   "outputs": [
    {
     "name": "stdout",
     "output_type": "stream",
     "text": [
      "the mean absolute error: 0.781654140899\n",
      "the accuracy score: 0.429555265907\n"
     ]
    }
   ],
   "source": [
    "stars_pred = bag_scores_mae.predict(score)\n",
    "\n",
    "print 'the mean absolute error:', metrics.mean_absolute_error(stars, stars_pred)\n",
    "print 'the accuracy score:', metrics.accuracy_score(stars, stars_pred)"
   ]
  },
  {
   "cell_type": "markdown",
   "metadata": {},
   "source": [
    "<h2 style=\"font-family:Times New Roman;\">Waste Analysis</h2>"
   ]
  },
  {
   "cell_type": "code",
   "execution_count": 3,
   "metadata": {
    "collapsed": false
   },
   "outputs": [],
   "source": [
    "# Business data\n",
    "with open('business.json') as f:\n",
    "    business = pd.DataFrame(json.loads(line) for line in f)"
   ]
  },
  {
   "cell_type": "code",
   "execution_count": 4,
   "metadata": {
    "collapsed": false
   },
   "outputs": [
    {
     "data": {
      "text/html": [
       "<div>\n",
       "<table border=\"1\" class=\"dataframe\">\n",
       "  <thead>\n",
       "    <tr style=\"text-align: right;\">\n",
       "      <th></th>\n",
       "      <th>attributes</th>\n",
       "      <th>business_id</th>\n",
       "      <th>categories</th>\n",
       "      <th>city</th>\n",
       "      <th>full_address</th>\n",
       "      <th>hours</th>\n",
       "      <th>latitude</th>\n",
       "      <th>longitude</th>\n",
       "      <th>name</th>\n",
       "      <th>neighborhoods</th>\n",
       "      <th>open</th>\n",
       "      <th>review_count</th>\n",
       "      <th>stars</th>\n",
       "      <th>state</th>\n",
       "      <th>type</th>\n",
       "    </tr>\n",
       "  </thead>\n",
       "  <tbody>\n",
       "    <tr>\n",
       "      <th>0</th>\n",
       "      <td>{u'Take-out': True, u'Drive-Thru': False, u'Ou...</td>\n",
       "      <td>5UmKMjUEUNdYWqANhGckJw</td>\n",
       "      <td>[Fast Food, Restaurants]</td>\n",
       "      <td>Dravosburg</td>\n",
       "      <td>4734 Lebanon Church Rd\\nDravosburg, PA 15034</td>\n",
       "      <td>{u'Tuesday': {u'close': u'21:00', u'open': u'1...</td>\n",
       "      <td>40.354327</td>\n",
       "      <td>-79.900706</td>\n",
       "      <td>Mr Hoagie</td>\n",
       "      <td>[]</td>\n",
       "      <td>True</td>\n",
       "      <td>7</td>\n",
       "      <td>3.5</td>\n",
       "      <td>PA</td>\n",
       "      <td>business</td>\n",
       "    </tr>\n",
       "    <tr>\n",
       "      <th>1</th>\n",
       "      <td>{u'Happy Hour': True, u'Accepts Credit Cards':...</td>\n",
       "      <td>UsFtqoBl7naz8AVUBZMjQQ</td>\n",
       "      <td>[Nightlife]</td>\n",
       "      <td>Dravosburg</td>\n",
       "      <td>202 McClure St\\nDravosburg, PA 15034</td>\n",
       "      <td>{}</td>\n",
       "      <td>40.350553</td>\n",
       "      <td>-79.886814</td>\n",
       "      <td>Clancy's Pub</td>\n",
       "      <td>[]</td>\n",
       "      <td>True</td>\n",
       "      <td>5</td>\n",
       "      <td>3.0</td>\n",
       "      <td>PA</td>\n",
       "      <td>business</td>\n",
       "    </tr>\n",
       "  </tbody>\n",
       "</table>\n",
       "</div>"
      ],
      "text/plain": [
       "                                          attributes             business_id  \\\n",
       "0  {u'Take-out': True, u'Drive-Thru': False, u'Ou...  5UmKMjUEUNdYWqANhGckJw   \n",
       "1  {u'Happy Hour': True, u'Accepts Credit Cards':...  UsFtqoBl7naz8AVUBZMjQQ   \n",
       "\n",
       "                 categories        city  \\\n",
       "0  [Fast Food, Restaurants]  Dravosburg   \n",
       "1               [Nightlife]  Dravosburg   \n",
       "\n",
       "                                   full_address  \\\n",
       "0  4734 Lebanon Church Rd\\nDravosburg, PA 15034   \n",
       "1          202 McClure St\\nDravosburg, PA 15034   \n",
       "\n",
       "                                               hours   latitude  longitude  \\\n",
       "0  {u'Tuesday': {u'close': u'21:00', u'open': u'1...  40.354327 -79.900706   \n",
       "1                                                 {}  40.350553 -79.886814   \n",
       "\n",
       "           name neighborhoods  open  review_count  stars state      type  \n",
       "0     Mr Hoagie            []  True             7    3.5    PA  business  \n",
       "1  Clancy's Pub            []  True             5    3.0    PA  business  "
      ]
     },
     "execution_count": 4,
     "metadata": {},
     "output_type": "execute_result"
    }
   ],
   "source": [
    "business.head(n=2)"
   ]
  },
  {
   "cell_type": "code",
   "execution_count": 11,
   "metadata": {
    "collapsed": true
   },
   "outputs": [],
   "source": [
    "business_nv = business[business['state'] == 'NV']"
   ]
  },
  {
   "cell_type": "code",
   "execution_count": 12,
   "metadata": {
    "collapsed": true
   },
   "outputs": [],
   "source": [
    "business_nv_review = business_nv.groupby('name')['review_count'].sum()"
   ]
  },
  {
   "cell_type": "code",
   "execution_count": 13,
   "metadata": {
    "collapsed": false
   },
   "outputs": [
    {
     "data": {
      "text/plain": [
       "name\n",
       "Hash House A Go Go          7954\n",
       "Mon Ami Gabi                6200\n",
       "Bacchanal Buffet            5216\n",
       "Earl of Sandwich            5031\n",
       "Wicked Spoon                4967\n",
       "Starbucks                   4733\n",
       "Gordon Ramsay BurGR         4620\n",
       "Serendipity 3               3781\n",
       "Gangnam Asian BBQ Dining    3767\n",
       "The Buffet                  3684\n",
       "Name: review_count, dtype: int64"
      ]
     },
     "execution_count": 13,
     "metadata": {},
     "output_type": "execute_result"
    }
   ],
   "source": [
    "business_nv_review.sort_values(ascending = False).head(n=10)"
   ]
  },
  {
   "cell_type": "code",
   "execution_count": null,
   "metadata": {
    "collapsed": true
   },
   "outputs": [],
   "source": []
  }
 ],
 "metadata": {
  "anaconda-cloud": {},
  "kernelspec": {
   "display_name": "Python [Root]",
   "language": "python",
   "name": "Python [Root]"
  },
  "language_info": {
   "codemirror_mode": {
    "name": "ipython",
    "version": 2
   },
   "file_extension": ".py",
   "mimetype": "text/x-python",
   "name": "python",
   "nbconvert_exporter": "python",
   "pygments_lexer": "ipython2",
   "version": "2.7.12"
  }
 },
 "nbformat": 4,
 "nbformat_minor": 0
}
