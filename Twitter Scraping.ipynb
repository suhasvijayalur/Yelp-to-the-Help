{
 "cells": [
  {
   "cell_type": "code",
   "execution_count": 1,
   "metadata": {
    "collapsed": true
   },
   "outputs": [],
   "source": [
    "from TwitterAPI import TwitterAPI"
   ]
  },
  {
   "cell_type": "code",
   "execution_count": 2,
   "metadata": {
    "collapsed": true
   },
   "outputs": [],
   "source": [
    "api = TwitterAPI('4gTrmtFVrW8hEhpkYMkwqlSXO',\n",
    "                 'NshVd2XO0WXw5imC6sZ1Fh8oGPMQB2U2kidXNIYBou12D9veEr',\n",
    "                 auth_type='oAuth2')"
   ]
  },
  {
   "cell_type": "code",
   "execution_count": 3,
   "metadata": {
    "collapsed": false
   },
   "outputs": [
    {
     "name": "stdout",
     "output_type": "stream",
     "text": [
      "200\n"
     ]
    }
   ],
   "source": [
    "from TwitterAPI import TwitterAPI\n",
    "r = api.request('search/tweets', {'q':'Bacchanal Buffet'})\n",
    "print r.status_code"
   ]
  },
  {
   "cell_type": "code",
   "execution_count": 4,
   "metadata": {
    "collapsed": false
   },
   "outputs": [
    {
     "name": "stdout",
     "output_type": "stream",
     "text": [
      "dullestaxiff Mon Ami Gabi #Restaurant #Cuisine #Reston https://t.co/Slg4r536Fa\n",
      "DullesTaxi Mon Ami Gabi #Restaurant #Cuisine #Reston https://t.co/UV7RZmfLWa\n",
      "DCATaxiFF Mon Ami Gabi #Restaurant #Cuisine #Reston https://t.co/zcy1eacLLG\n",
      "MonAmiGabiOB Santa Claus is coming...to Mon Ami Gabi! Santa will stop by on Sunday Dec. 4 (tomorrow!) from 11:30a-12:30p… https://t.co/5rI5EpkAms\n",
      "DocNiti #Brunch @ #MonAmiGabi #FrenchBistro #Mimosas #Baguettes @ Mon Ami Gabi - Las Vegas https://t.co/4uSMAD7hVO\n",
      "LasVegas_Picks Mon Ami Gabi is buzzing again: https://t.co/Kt1vsV4359 - RT @CandidLiv Saturday is off to a great start! @k_swizzle17 and I got caught up...\n",
      "MonAmiGabiOB Santa Claus is coming...to Mon Ami Gabi! Santa is stopping by on Sunday Dec. 4 (tomorrow!) from 11:30am-12:30pm… https://t.co/8rIGd53zRH\n",
      "CandidLiv Saturday is off to a great start! @k_swizzle17 and I got caught up over brunch at Mon Ami Gabi… https://t.co/0qBIDTEHpt\n",
      "falcon_Limo Mon Ami Gabi #Restaurant #Cuisine #Reston https://t.co/wNyaMmSwY4\n",
      "kaoringsari RT @ParisVegas: France is famous for its exquisite wine! Mon Ami Gabi's selections will not disappoint! https://t.co/NLEgv9DbBM\n",
      "enjoywine24x7 Mon Ami Gabi #Restaurant #Cuisine #Reston https://t.co/PpurCc0Rgq\n",
      "enjoywinesinsty Mon Ami Gabi #Restaurant #Cuisine #Reston https://t.co/DKeM7QQJPM\n",
      "Falcon_Cab Mon Ami Gabi #Restaurant #Cuisine #Reston https://t.co/XnEjAPmKvj\n"
     ]
    }
   ],
   "source": [
    "for item in r.get_iterator():\n",
    "    print item['user']['screen_name'], item['text']"
   ]
  },
  {
   "cell_type": "code",
   "execution_count": 5,
   "metadata": {
    "collapsed": true
   },
   "outputs": [],
   "source": [
    "from TwitterAPI import TwitterAPI, TwitterRestPager"
   ]
  },
  {
   "cell_type": "code",
   "execution_count": 9,
   "metadata": {
    "collapsed": false
   },
   "outputs": [
    {
     "name": "stdout",
     "output_type": "stream",
     "text": [
      "The happiest Brandon has ever been #lasvegas #buffet @ Bacchanal Buffet https://t.co/gm868Da0iN\n",
      "I'm at Bacchanal Buffet in Las Vegas, NV https://t.co/qb5gv4nYiE\n",
      "Love #Vegas in November.  NO LINES at #bacchanalbuffet at #caesarspalace. @ Bacchanal Buffet https://t.co/1c8TG9HjbO\n",
      "I'm at Bacchanal Buffet in Las Vegas, NV https://t.co/Fy9tNSwbmO\n",
      "I wanna go to Vegas just so I can eat at the bacchanal buffet 😩\n",
      "This is where I win all my money back... lantzerin @ Bacchanal Buffet https://t.co/BILkX9STB3\n",
      "I'm at Bacchanal Buffet in Las Vegas, NV https://t.co/GBPAMWVx3m\n",
      "I liked a @YouTube video https://t.co/1gcmQ55y3q Bacchanal Buffet at Caesars Palace Las Vegas\n",
      "@misswestendgirl @Minus5IceBar or @SugarFactory for drinks. You have to do a buffet in Vegas, the Bacchanal in @CaesarsPalace is awesome\n",
      "I'm at Bacchanal Buffet in Las Vegas, NV w/ @smokeymonkey https://t.co/cA6DZCkg6u\n",
      "晩御飯 @ The Bacchanal Buffet @ Caesar's Palace https://t.co/odOKZxc9uI\n",
      "Restaurant Review; Bacchanal Buffet, Las Vegas https://t.co/T6BZ48UyRs #foodbloggers #travelbloggers #lbloggers https://t.co/ARu1QxEMhJ\n",
      "RT @CaesarsPalace: Voted best #LasVegas buffet by @USATODAY, Bacchanal Buffet \n",
      "\n",
      "&gt;&gt; https://t.co/Xm8PahmPkw https://t.co/ScGdbvyseh\n",
      "I'm at Bacchanal Buffet in Las Vegas, NV https://t.co/E385OpDVUC\n",
      "@octal Try Bacchanal at Cesar's Palace for a buffet.\n",
      "RT @CaesarsPalace: Voted best #LasVegas buffet by @USATODAY, Bacchanal Buffet is ready to make your #Thanksgiving unforgettable! \n",
      "\n",
      "&gt;&gt; https…\n",
      "Bacchanal Buffet on #Yelp: We went here during the Thanksgiving holiday. Place was consistently packed. You need to… https://t.co/cABUBZUNZs\n",
      "I'm at Bacchanal Buffet in Las Vegas, NV https://t.co/IvU0mNsP5i\n",
      "I'm at Bacchanal Buffet in Las Vegas, NV w/ @lauuelena https://t.co/TZL9PRPriN\n",
      "Finally get to eat at Bacchanal Buffet 😋😋😋\n",
      "I'm at Bacchanal Buffet in Las Vegas, NV https://t.co/Jn1jrz9O7w\n",
      "Thinking of trying a Las Vegas buffet? Here's what I thought of Bacchanal Buffet https://t.co/T6BZ48CXsS… https://t.co/FXgrG8M6jz\n",
      "RT @pinkconfettiuk: A review of Las Vegas's Bacchanal Buffet https://t.co/T6BZ48UyRs #foodbloggers #travelbloggers https://t.co/dUn6L0nFsP\n",
      "A review of Las Vegas's Bacchanal Buffet https://t.co/T6BZ48UyRs #foodbloggers #travelbloggers https://t.co/dUn6L0nFsP\n",
      "First #friendsgiving (@ Bacchanal Buffet in Las Vegas, NV) https://t.co/hDcTOfabQH\n",
      "Mountain of all sorts of meat for Thanksgiving at Bacchanal Buffet. I haven't even gotten to the… https://t.co/xoYovAuWZM\n",
      "This buffet is like the name of the place...a BACCHANAL!!!\n",
      "Food is sooo good!!!\n",
      "Only buffet I'll do unless it's your mom (@ Bacchanal Buffet) on #Yelp https://t.co/iOJPIXg8M6\n"
     ]
    }
   ],
   "source": [
    "r = TwitterRestPager(api, 'search/tweets', {'q':'Bacchanal Buffet', 'count':100})\n",
    "for item in r.get_iterator():\n",
    "    if 'text' in item:\n",
    "        print item['text']\n",
    "    elif 'message' in item and item['code'] == 88:\n",
    "        print 'SUSPEND, RATE LIMIT EXCEEDED: %s\\n' % item['message']\n",
    "        break"
   ]
  },
  {
   "cell_type": "code",
   "execution_count": 12,
   "metadata": {
    "collapsed": false
   },
   "outputs": [],
   "source": [
    "r = TwitterRestPager(api, 'search/tweets', {'q':'Bacchanal Buffet', 'count':100})\n",
    "t = list()\n",
    "for item in r.get_iterator():\n",
    "    if 'text' in item:\n",
    "         t.append(item['text'])\n",
    "    elif 'message' in item and item['code'] == 88:\n",
    "        print 'SUSPEND, RATE LIMIT EXCEEDED: %s\\n' % item['message']\n",
    "        break"
   ]
  },
  {
   "cell_type": "code",
   "execution_count": 19,
   "metadata": {
    "collapsed": false
   },
   "outputs": [
    {
     "data": {
      "text/plain": [
       "u\"Mountain of all sorts of meat for Thanksgiving at Bacchanal Buffet. I haven't even gotten to the\\u2026 https://t.co/xoYovAuWZM\""
      ]
     },
     "execution_count": 19,
     "metadata": {},
     "output_type": "execute_result"
    }
   ],
   "source": [
    "t[25]"
   ]
  },
  {
   "cell_type": "code",
   "execution_count": null,
   "metadata": {
    "collapsed": true
   },
   "outputs": [],
   "source": [
    "#twitter_api = twitter.Twitter(auth=auth)\n",
    "# Nothing to see by displaying twitter_api except that it's now a\n",
    "# defined variable\n",
    "#print twitter_api\n",
    "\n",
    "\n",
    "#import tweepy\n",
    "#from tweepy import OAuthHandler\n",
    "\n",
    "#from TwitterAPI import Twitter\n",
    "#twitter = Twitter(auth=OAuth(token, token_key, con_secret, con_secret_key))\n",
    "#twitter.statuses.public_timeline()\n",
    "\n",
    "#for status in tweepy.Cursor(api.home_timeline).items(10):\n",
    "    # Process a single status\n",
    "#    print(status.text) \n",
    "\n",
    "\n",
    "\n",
    "# The Yahoo! Where On Earth ID for the entire world is 1.\n",
    "# See https://dev.twitter.com/docs/api/1.1/get/trends/place and\n",
    "# http://developer.yahoo.com/geo/geoplanet/\n",
    "#WORLD_WOE_ID = 1\n",
    "#US_WOE_ID = 23424977\n",
    "# Prefix ID with the underscore for query string parameterization.\n",
    "# Without the underscore, the twitter package appends the ID value\n",
    "# to the URL itself as a special case keyword argument.\n",
    "#world_trends = twitter_api.trends.place(_id=WORLD_WOE_ID)\n",
    "#us_trends = twitter_api.trends.place(_id=US_WOE_ID)\n",
    "#print world_trends\n",
    "#print\n",
    "#print us_trends"
   ]
  }
 ],
 "metadata": {
  "kernelspec": {
   "display_name": "Python [Root]",
   "language": "python",
   "name": "Python [Root]"
  },
  "language_info": {
   "codemirror_mode": {
    "name": "ipython",
    "version": 2
   },
   "file_extension": ".py",
   "mimetype": "text/x-python",
   "name": "python",
   "nbconvert_exporter": "python",
   "pygments_lexer": "ipython2",
   "version": "2.7.12"
  }
 },
 "nbformat": 4,
 "nbformat_minor": 0
}
